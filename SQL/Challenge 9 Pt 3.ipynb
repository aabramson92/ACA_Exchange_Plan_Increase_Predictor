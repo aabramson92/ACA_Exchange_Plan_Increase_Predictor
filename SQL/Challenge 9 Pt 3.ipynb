{
 "cells": [
  {
   "cell_type": "code",
   "execution_count": 1,
   "metadata": {},
   "outputs": [],
   "source": [
    "import sqlite3\n",
    "sqlite_file = '/Users/alexy161/Downloads/database.sqlite'\n",
    "conn = sqlite3.connect(sqlite_file)\n",
    "c = conn.cursor()"
   ]
  },
  {
   "cell_type": "code",
   "execution_count": 2,
   "metadata": {},
   "outputs": [
    {
     "name": "stdout",
     "output_type": "stream",
     "text": [
      "[(152, 8302)]\n"
     ]
    }
   ],
   "source": [
    "c.execute(\"SELECT COUNT(CASE WHEN home_team_goal > away_team_goal THEN 3 \\\n",
    "                             WHEN home_team_goal < away_team_goal THEN 0 \\\n",
    "                             ELSE 1 END) AS points, \\\n",
    "                  home_team_api_id \\\n",
    "           FROM match \\\n",
    "           GROUP BY home_team_api_id \\\n",
    "           ORDER BY points DESC \\\n",
    "           LIMIT 1;\")\n",
    "result = c.fetchall()\n",
    "print(result)"
   ]
  },
  {
   "cell_type": "code",
   "execution_count": 3,
   "metadata": {
    "scrolled": false
   },
   "outputs": [
    {
     "name": "stdout",
     "output_type": "stream",
     "text": [
      "[(153, 9927)]\n"
     ]
    }
   ],
   "source": [
    "c.execute(\"SELECT COUNT(CASE WHEN home_team_goal < away_team_goal THEN 3 \\\n",
    "                             WHEN home_team_goal > away_team_goal THEN 0 \\\n",
    "                             ELSE 1 END) AS points, \\\n",
    "                  away_team_api_id \\\n",
    "           FROM match \\\n",
    "           GROUP BY away_team_api_id \\\n",
    "           ORDER BY points DESC \\\n",
    "           LIMIT 1;\")\n",
    "result = c.fetchall()\n",
    "print(result)"
   ]
  },
  {
   "cell_type": "code",
   "execution_count": 4,
   "metadata": {},
   "outputs": [
    {
     "name": "stdout",
     "output_type": "stream",
     "text": [
      "[(6596,)]\n"
     ]
    }
   ],
   "source": [
    "c.execute(\"SELECT COUNT(*) AS ties \\\n",
    "           FROM match\\\n",
    "           WHERE home_team_goal = away_team_goal;\")\n",
    "result = c.fetchall()\n",
    "print(result)"
   ]
  },
  {
   "cell_type": "code",
   "execution_count": 5,
   "metadata": {},
   "outputs": [
    {
     "name": "stdout",
     "output_type": "stream",
     "text": [
      "[(18,)]\n"
     ]
    }
   ],
   "source": [
    "c.execute(\"SELECT COUNT(*) \\\n",
    "           FROM player \\\n",
    "           WHERE player_name \\\n",
    "           LIKE '%Smith';\")\n",
    "result = c.fetchall()\n",
    "print(result)"
   ]
  },
  {
   "cell_type": "code",
   "execution_count": 6,
   "metadata": {},
   "outputs": [
    {
     "name": "stdout",
     "output_type": "stream",
     "text": [
      "[(18,)]\n"
     ]
    }
   ],
   "source": [
    "c.execute(\"SELECT COUNT(*) \\\n",
    "           FROM player \\\n",
    "           WHERE player_name \\\n",
    "           LIKE '%smith%';\")\n",
    "result = c.fetchall()\n",
    "print(result)"
   ]
  },
  {
   "cell_type": "code",
   "execution_count": 9,
   "metadata": {},
   "outputs": [
    {
     "name": "stdout",
     "output_type": "stream",
     "text": [
      "[(1, 1), (1, 1)]\n"
     ]
    }
   ],
   "source": [
    "c.execute(\"SELECT home_team_goal, away_team_goal \\\n",
    "           FROM match\\\n",
    "           WHERE home_team_goal = away_team_goal \\\n",
    "           ORDER BY home_team_goal \\\n",
    "           LIMIT 3297, 2;\")\n",
    "result = c.fetchall()\n",
    "print(result)"
   ]
  },
  {
   "cell_type": "code",
   "execution_count": 8,
   "metadata": {},
   "outputs": [
    {
     "name": "stdout",
     "output_type": "stream",
     "text": [
      "[(0.7523127765276283,)]\n"
     ]
    }
   ],
   "source": [
    "c.execute(\"SELECT (SELECT COUNT(CASE WHEN preferred_foot = 'right' THEN 1 ELSE 0 END) \\\n",
    "                   FROM player_attributes \\\n",
    "                   GROUP BY preferred_foot \\\n",
    "                   HAVING preferred_foot = 'right')/ \\\n",
    "          (COUNT(*)*1.0) AS pct FROM player_attributes;\")\n",
    "result = c.fetchall()\n",
    "print(result)"
   ]
  },
  {
   "cell_type": "code",
   "execution_count": null,
   "metadata": {},
   "outputs": [],
   "source": []
  }
 ],
 "metadata": {
  "kernelspec": {
   "display_name": "Python 3",
   "language": "python",
   "name": "python3"
  },
  "language_info": {
   "codemirror_mode": {
    "name": "ipython",
    "version": 3
   },
   "file_extension": ".py",
   "mimetype": "text/x-python",
   "name": "python",
   "nbconvert_exporter": "python",
   "pygments_lexer": "ipython3",
   "version": "3.6.5"
  }
 },
 "nbformat": 4,
 "nbformat_minor": 2
}
